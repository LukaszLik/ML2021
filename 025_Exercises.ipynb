{
 "cells": [
  {
   "cell_type": "markdown",
   "metadata": {},
   "source": [
    "# Exercises\n",
    "\n",
    "There are three exercises in this notebook:\n",
    "\n",
    "1. Use the cross-validation method to test the linear regression with different $\\alpha$ values, at least three.\n",
    "2. Implement a SGD method that will train the Lasso regression for 10 epochs.\n",
    "3. Extend the Fisher's classifier to work with two features. Use the class as the $y$."
   ]
  },
  {
   "cell_type": "markdown",
   "metadata": {},
   "source": [
    "## 1. Cross-validation linear regression\n",
    "\n",
    "You need to change the variable ``alpha`` to be a list of alphas. Next do a loop and finally compare the results."
   ]
  },
  {
   "cell_type": "code",
   "execution_count": 45,
   "metadata": {},
   "outputs": [],
   "source": [
    "import pandas as pd\n",
    "import numpy as np\n",
    "import matplotlib.pyplot as plt\n",
    "from sklearn.datasets import load_iris"
   ]
  },
  {
   "cell_type": "code",
   "execution_count": 46,
   "metadata": {},
   "outputs": [
    {
     "name": "stdout",
     "output_type": "stream",
     "text": [
      "                       w1        w2\n",
      "alpha = 0.001 -179.526286  1.610230\n",
      "alpha = 0.01  -167.855340  1.544160\n",
      "alpha = 0.1   -101.723971  1.169788\n",
      "alpha = 0.2    -70.751422  0.994451\n",
      "alpha = 0.3    -54.237043  0.900962\n",
      "alpha = 0.4    -43.972861  0.842856\n",
      "alpha = 0.5    -36.975220  0.803242\n",
      "alpha = 1      -20.590447  0.710486\n"
     ]
    }
   ],
   "source": [
    "x = np.array([188, 181, 197, 168, 167, 187, 178, 194, 140, 176, 168, 192, 173, 142, 176]).reshape(-1, 1).reshape(15,1)\n",
    "y = np.array([141, 106, 149, 59, 79, 136, 65, 136, 52, 87, 115, 140, 82, 69, 121]).reshape(-1, 1).reshape(15,1)\n",
    "\n",
    "x = np.asmatrix(np.c_[np.ones((15,1)),x])\n",
    "\n",
    "I = np.identity(2)\n",
    "alpha = [0.001, 0.01, 0.1, 0.2, 0.3, 0.4, 0.5,1]\n",
    "results = []\n",
    "\n",
    "# add 1-3 line of code here\n",
    "for i in range(len(alpha)):\n",
    "    w = np.linalg.inv(x.T*x + alpha[i] * I)*x.T*y\n",
    "    w=w.ravel()\n",
    "    results.append(w)\n",
    "    \n",
    "# add 1-3 lines to compare the results\n",
    "results = np.asarray(results)\n",
    "results = results.flatten()\n",
    "results = results.reshape(8,2)\n",
    "df = pd.DataFrame(data=results, index=[\"alpha = 0.001\", \"alpha = 0.01\", \"alpha = 0.1\", \"alpha = 0.2\", \"alpha = 0.3\", \"alpha = 0.4\", \"alpha = 0.5\", \"alpha = 1\"], columns=[\"w1\", \"w2\"])\n",
    "\n",
    "print(df)"
   ]
  },
  {
   "cell_type": "markdown",
   "metadata": {},
   "source": [
    "## 2. Implement based on the Ridge regression example, the Lasso regression.\n",
    "\n",
    "Please implement the SGD method and compare the results with the sklearn Lasso regression results. "
   ]
  },
  {
   "cell_type": "code",
   "execution_count": 47,
   "metadata": {},
   "outputs": [],
   "source": [
    "def sgd(arr_coef, x, y, lamda, iterations):\n",
    "   \n",
    "    n = x.shape[1]\n",
    "    norm = (np.linalg.norm(x,axis = 0))\n",
    "    \n",
    "    for i in range(iterations):\n",
    "        for j in range(n):\n",
    "\n",
    "            norm_j = norm[j]\n",
    "            x_j = x[:,j].reshape(-1,1)\n",
    "            y_pred = x * arr_coef \n",
    "            r = x_j.T * (y - y_pred  + x_j * arr_coef[j])\n",
    "        \n",
    "            if j == 0: \n",
    "                arr_coef[j] =  r/(norm_j**2)\n",
    "            else:\n",
    "                if r < - lamda:\n",
    "                    arr_coef[j] = (r + lamda)/(norm_j**2)\n",
    "                elif r >  lamda:\n",
    "                    arr_coef[j] = (r - lamda)/(norm_j**2)\n",
    "                else: \n",
    "                    arr_coef[j] = 0\n",
    "                            \n",
    "    return arr_coef.flatten()"
   ]
  },
  {
   "cell_type": "code",
   "execution_count": 48,
   "metadata": {},
   "outputs": [
    {
     "name": "stdout",
     "output_type": "stream",
     "text": [
      "1.6178194139934838, -180.86698943443562\n"
     ]
    }
   ],
   "source": [
    "x = np.array([188, 181, 197, 168, 167, 187, 178, 194, 140, 176, 168, 192, 173, 142, 176]).reshape(-1, 1).reshape(15,1)\n",
    "y = np.array([141, 106, 149, 59, 79, 136, 65, 136, 52, 87, 115, 140, 82, 69, 121]).reshape(-1, 1).reshape(15,1)\n",
    "\n",
    "x = np.asmatrix(np.c_[np.ones((x.shape[0],1)),x])\n",
    "n = x.shape[1] \n",
    "alpha = 0.1 \n",
    "initial_coefficients = np.zeros((n,1))\n",
    "\n",
    "w = sgd(initial_coefficients, x, y, alpha, 1000)\n",
    "\n",
    "print(str(w[1]) + \", \" + str(w[0]))"
   ]
  },
  {
   "cell_type": "markdown",
   "metadata": {},
   "source": [
    "## 3. Extend the Fisher's classifier\n",
    "\n",
    "Please extend the targets of the ``iris_data`` variable and use it as the $y$."
   ]
  },
  {
   "cell_type": "code",
   "execution_count": 49,
   "metadata": {},
   "outputs": [],
   "source": [
    "iris = load_iris()\n",
    "\n",
    "iris_df = pd.DataFrame(iris.data,columns=iris.feature_names)\n",
    "iris_target_df = pd.DataFrame(iris.target)\n",
    "\n",
    "x = iris_df[['sepal width (cm)', 'sepal length (cm)']].values\n",
    "y = iris_target_df.values\n",
    "# print(x)\n",
    "# print(y)\n",
    "dataset_size = np.size(y)\n",
    "\n",
    "mean_x, mean_y = np.mean(x), np.mean(y)\n",
    "\n",
    "SS_xy = np.sum(y * x) - dataset_size * mean_y * mean_x\n",
    "SS_xx = np.sum(x * x) - dataset_size * mean_x * mean_x\n",
    "\n",
    "a = SS_xy / SS_xx\n",
    "b = mean_y - a * mean_x\n",
    "\n",
    "y_pred = a * x + b\n",
    "# print(y_pred)"
   ]
  }
 ],
 "metadata": {
  "kernelspec": {
   "display_name": "Python 3",
   "language": "python",
   "name": "python3"
  },
  "language_info": {
   "codemirror_mode": {
    "name": "ipython",
    "version": 3
   },
   "file_extension": ".py",
   "mimetype": "text/x-python",
   "name": "python",
   "nbconvert_exporter": "python",
   "pygments_lexer": "ipython3",
   "version": "3.6.9"
  }
 },
 "nbformat": 4,
 "nbformat_minor": 4
}
